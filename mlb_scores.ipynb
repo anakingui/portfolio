{
  "cells": [
    {
      "cell_type": "markdown",
      "metadata": {
        "id": "view-in-github",
        "colab_type": "text"
      },
      "source": [
        "<a href=\"https://colab.research.google.com/github/anakingui/portfolio/blob/main/mlb_scores.ipynb\" target=\"_parent\"><img src=\"https://colab.research.google.com/assets/colab-badge.svg\" alt=\"Open In Colab\"/></a>"
      ]
    },
    {
      "cell_type": "markdown",
      "source": [
        "Programa que por medio de web scrapping construye una lista con los resultados de partidos de la MLB en los ultimos 5 años"
      ],
      "metadata": {
        "id": "g5o3fuJeXqSt"
      }
    },
    {
      "cell_type": "code",
      "execution_count": 1,
      "metadata": {
        "colab": {
          "base_uri": "https://localhost:8080/"
        },
        "id": "YemcMZpneueR",
        "outputId": "0c1476cb-7954-4835-f02f-48714bb95e43"
      },
      "outputs": [
        {
          "output_type": "stream",
          "name": "stdout",
          "text": [
            "Looking in indexes: https://pypi.org/simple, https://us-python.pkg.dev/colab-wheels/public/simple/\n",
            "Requirement already satisfied: requests in /usr/local/lib/python3.10/dist-packages (2.27.1)\n",
            "Requirement already satisfied: beautifulsoup4 in /usr/local/lib/python3.10/dist-packages (4.11.2)\n",
            "Requirement already satisfied: urllib3<1.27,>=1.21.1 in /usr/local/lib/python3.10/dist-packages (from requests) (1.26.15)\n",
            "Requirement already satisfied: certifi>=2017.4.17 in /usr/local/lib/python3.10/dist-packages (from requests) (2022.12.7)\n",
            "Requirement already satisfied: charset-normalizer~=2.0.0 in /usr/local/lib/python3.10/dist-packages (from requests) (2.0.12)\n",
            "Requirement already satisfied: idna<4,>=2.5 in /usr/local/lib/python3.10/dist-packages (from requests) (3.4)\n",
            "Requirement already satisfied: soupsieve>1.2 in /usr/local/lib/python3.10/dist-packages (from beautifulsoup4) (2.4.1)\n"
          ]
        }
      ],
      "source": [
        "!pip install requests beautifulsoup4"
      ]
    },
    {
      "cell_type": "code",
      "execution_count": 2,
      "metadata": {
        "id": "xGj2qJFXewv8"
      },
      "outputs": [],
      "source": [
        "import requests\n",
        "from bs4 import BeautifulSoup"
      ]
    },
    {
      "cell_type": "code",
      "execution_count": 3,
      "metadata": {
        "id": "j3IG76Vle74g"
      },
      "outputs": [],
      "source": [
        "import pandas as pd\n",
        "import re as regex\n",
        "import requests"
      ]
    },
    {
      "cell_type": "code",
      "execution_count": 4,
      "metadata": {
        "id": "pwNmkiZiqd3D"
      },
      "outputs": [],
      "source": [
        "import numpy as np"
      ]
    },
    {
      "cell_type": "code",
      "execution_count": 5,
      "metadata": {
        "id": "1KFVm5OevKue"
      },
      "outputs": [],
      "source": [
        "from datetime import datetime,timezone\n",
        "from time import time"
      ]
    },
    {
      "cell_type": "code",
      "execution_count": 6,
      "metadata": {
        "id": "gGw1qC7G0Zb7"
      },
      "outputs": [],
      "source": [
        "from datetime import datetime"
      ]
    },
    {
      "cell_type": "code",
      "source": [
        "# Se construye un patrón del sitio de búsqueda\n",
        "url='http://www.baseball-reference.com/leagues/MLB/'"
      ],
      "metadata": {
        "id": "8N6Z5kYkFZtB"
      },
      "execution_count": 7,
      "outputs": []
    },
    {
      "cell_type": "code",
      "source": [
        "lista_2 = []\n",
        "i=0\n",
        "gamedates = []"
      ],
      "metadata": {
        "id": "EJSIjm9jILGS"
      },
      "execution_count": 8,
      "outputs": []
    },
    {
      "cell_type": "code",
      "execution_count": 9,
      "metadata": {
        "id": "0qA75NH0lX8o"
      },
      "outputs": [],
      "source": [
        "# Extrae el texto que incluye el html\n",
        "for j in range(2018,2024):\n",
        "   html = requests.get(url+str(j)+'-schedule.shtml').text\n",
        "   soup = BeautifulSoup(html, 'html.parser')\n",
        "\n",
        "# Encontrar todos los elementos dentro de <p> </p> con la clase \"game\"\n",
        "   games = soup.find_all('p', class_='game')\n",
        "   score_regex = regex.compile(r'\\((\\d+)\\)')\n",
        "   \n",
        "   for game in games:\n",
        "    # Encontrar los enlaces <a> dentro del elemento <p>\n",
        "    team_links = game.find_all('a')\n",
        "    # La función find_all('a') busca todos los elementos <a> en el contexto de\n",
        "    # game y devuelve una lista que contiene todos los elementos encontrados.\n",
        "    # Cada elemento <a> encontrado se representa como un objeto de tipo Tag\n",
        "    # en Beautiful Soup. Al asignar el resultado de find_all('a') a la variable\n",
        "    # team_links, se crea una lista que contiene todos los elementos <a>\n",
        "    # encontrados en game. La variable team_links se puede utilizar\n",
        "    # posteriormente para acceder a los elementos individuales de la lista,\n",
        "    # iterar sobre ellos, obtener sus atributos o realizar otras operaciones\n",
        "    # específicas de una lista.\n",
        "\n",
        "    # Para la primera iteración se obtiene una lista de 3 elementos, \n",
        "    # [<a href=\"/teams/BOS/2018.shtml\">Boston Red Sox</a>,\n",
        "    # <a href=\"/teams/LAD/2018.shtml\">Los Angeles Dodgers</a>,\n",
        "    # <a href=\"/boxes/LAN/LAN201810280.shtml\">Boxscore</a>]\n",
        "    \n",
        "    # Extraer los nombres de los equipos, tomando el texto dentro del elemento\n",
        "    # de la lista .strip(): Elimina los espacios en blanco al principio y al\n",
        "    # final del texto. Este método se utiliza para eliminar cualquier espacio\n",
        "    # en blanco adicional que pueda estar presente antes o después del texto\n",
        "    # de los enlaces de los equipos.\n",
        "    lista_1 = [0,0,0,0,j]    \n",
        "    team1 = team_links[0].text.strip()\n",
        "    team2 = team_links[1].text.strip()\n",
        "\n",
        "    \n",
        "    # Extraer las puntuaciones utilizando expresiones regulares\n",
        "    scores = score_regex.findall(str(game))\n",
        "\n",
        "\n",
        "    \n",
        "    # Verificar si se encontraron las dos puntuaciones\n",
        "    if len(scores) == 2:\n",
        "        score1 = scores[0]\n",
        "        score2 = scores[1]\n",
        "        \n",
        "        # Se construye una lista con todos los equipos y puntuaciones\n",
        "        \n",
        "                 \n",
        "        lista_1[0]= team1\n",
        "        lista_1[1]= score1\n",
        "        lista_1[2]= team2\n",
        "        lista_1[3]= score2\n",
        "   \n",
        "        lista_2.insert(i,lista_1)\n",
        "        i = i+1"
      ]
    },
    {
      "cell_type": "code",
      "execution_count": 10,
      "metadata": {
        "id": "OFfPczSgr0C3"
      },
      "outputs": [],
      "source": [
        "df = pd.DataFrame(lista_2, columns=['home_team','score_a','away_team','score_b','year'])"
      ]
    },
    {
      "cell_type": "code",
      "source": [
        "df.head(5)"
      ],
      "metadata": {
        "colab": {
          "base_uri": "https://localhost:8080/",
          "height": 206
        },
        "id": "BmMSi1Ks38zM",
        "outputId": "a3e37da3-c335-4d9f-ef2a-c264d071fd1c"
      },
      "execution_count": 11,
      "outputs": [
        {
          "output_type": "execute_result",
          "data": {
            "text/plain": [
              "               home_team score_a            away_team score_b  year\n",
              "0       Colorado Rockies       2      Arizona D'Backs       8  2018\n",
              "1  Philadelphia Phillies       5       Atlanta Braves       8  2018\n",
              "2        Minnesota Twins       2    Baltimore Orioles       3  2018\n",
              "3      Chicago White Sox      14   Kansas City Royals       7  2018\n",
              "4   San Francisco Giants       1  Los Angeles Dodgers       0  2018"
            ],
            "text/html": [
              "\n",
              "  <div id=\"df-96e78866-8276-4ab5-92f8-7e409643875b\">\n",
              "    <div class=\"colab-df-container\">\n",
              "      <div>\n",
              "<style scoped>\n",
              "    .dataframe tbody tr th:only-of-type {\n",
              "        vertical-align: middle;\n",
              "    }\n",
              "\n",
              "    .dataframe tbody tr th {\n",
              "        vertical-align: top;\n",
              "    }\n",
              "\n",
              "    .dataframe thead th {\n",
              "        text-align: right;\n",
              "    }\n",
              "</style>\n",
              "<table border=\"1\" class=\"dataframe\">\n",
              "  <thead>\n",
              "    <tr style=\"text-align: right;\">\n",
              "      <th></th>\n",
              "      <th>home_team</th>\n",
              "      <th>score_a</th>\n",
              "      <th>away_team</th>\n",
              "      <th>score_b</th>\n",
              "      <th>year</th>\n",
              "    </tr>\n",
              "  </thead>\n",
              "  <tbody>\n",
              "    <tr>\n",
              "      <th>0</th>\n",
              "      <td>Colorado Rockies</td>\n",
              "      <td>2</td>\n",
              "      <td>Arizona D'Backs</td>\n",
              "      <td>8</td>\n",
              "      <td>2018</td>\n",
              "    </tr>\n",
              "    <tr>\n",
              "      <th>1</th>\n",
              "      <td>Philadelphia Phillies</td>\n",
              "      <td>5</td>\n",
              "      <td>Atlanta Braves</td>\n",
              "      <td>8</td>\n",
              "      <td>2018</td>\n",
              "    </tr>\n",
              "    <tr>\n",
              "      <th>2</th>\n",
              "      <td>Minnesota Twins</td>\n",
              "      <td>2</td>\n",
              "      <td>Baltimore Orioles</td>\n",
              "      <td>3</td>\n",
              "      <td>2018</td>\n",
              "    </tr>\n",
              "    <tr>\n",
              "      <th>3</th>\n",
              "      <td>Chicago White Sox</td>\n",
              "      <td>14</td>\n",
              "      <td>Kansas City Royals</td>\n",
              "      <td>7</td>\n",
              "      <td>2018</td>\n",
              "    </tr>\n",
              "    <tr>\n",
              "      <th>4</th>\n",
              "      <td>San Francisco Giants</td>\n",
              "      <td>1</td>\n",
              "      <td>Los Angeles Dodgers</td>\n",
              "      <td>0</td>\n",
              "      <td>2018</td>\n",
              "    </tr>\n",
              "  </tbody>\n",
              "</table>\n",
              "</div>\n",
              "      <button class=\"colab-df-convert\" onclick=\"convertToInteractive('df-96e78866-8276-4ab5-92f8-7e409643875b')\"\n",
              "              title=\"Convert this dataframe to an interactive table.\"\n",
              "              style=\"display:none;\">\n",
              "        \n",
              "  <svg xmlns=\"http://www.w3.org/2000/svg\" height=\"24px\"viewBox=\"0 0 24 24\"\n",
              "       width=\"24px\">\n",
              "    <path d=\"M0 0h24v24H0V0z\" fill=\"none\"/>\n",
              "    <path d=\"M18.56 5.44l.94 2.06.94-2.06 2.06-.94-2.06-.94-.94-2.06-.94 2.06-2.06.94zm-11 1L8.5 8.5l.94-2.06 2.06-.94-2.06-.94L8.5 2.5l-.94 2.06-2.06.94zm10 10l.94 2.06.94-2.06 2.06-.94-2.06-.94-.94-2.06-.94 2.06-2.06.94z\"/><path d=\"M17.41 7.96l-1.37-1.37c-.4-.4-.92-.59-1.43-.59-.52 0-1.04.2-1.43.59L10.3 9.45l-7.72 7.72c-.78.78-.78 2.05 0 2.83L4 21.41c.39.39.9.59 1.41.59.51 0 1.02-.2 1.41-.59l7.78-7.78 2.81-2.81c.8-.78.8-2.07 0-2.86zM5.41 20L4 18.59l7.72-7.72 1.47 1.35L5.41 20z\"/>\n",
              "  </svg>\n",
              "      </button>\n",
              "      \n",
              "  <style>\n",
              "    .colab-df-container {\n",
              "      display:flex;\n",
              "      flex-wrap:wrap;\n",
              "      gap: 12px;\n",
              "    }\n",
              "\n",
              "    .colab-df-convert {\n",
              "      background-color: #E8F0FE;\n",
              "      border: none;\n",
              "      border-radius: 50%;\n",
              "      cursor: pointer;\n",
              "      display: none;\n",
              "      fill: #1967D2;\n",
              "      height: 32px;\n",
              "      padding: 0 0 0 0;\n",
              "      width: 32px;\n",
              "    }\n",
              "\n",
              "    .colab-df-convert:hover {\n",
              "      background-color: #E2EBFA;\n",
              "      box-shadow: 0px 1px 2px rgba(60, 64, 67, 0.3), 0px 1px 3px 1px rgba(60, 64, 67, 0.15);\n",
              "      fill: #174EA6;\n",
              "    }\n",
              "\n",
              "    [theme=dark] .colab-df-convert {\n",
              "      background-color: #3B4455;\n",
              "      fill: #D2E3FC;\n",
              "    }\n",
              "\n",
              "    [theme=dark] .colab-df-convert:hover {\n",
              "      background-color: #434B5C;\n",
              "      box-shadow: 0px 1px 3px 1px rgba(0, 0, 0, 0.15);\n",
              "      filter: drop-shadow(0px 1px 2px rgba(0, 0, 0, 0.3));\n",
              "      fill: #FFFFFF;\n",
              "    }\n",
              "  </style>\n",
              "\n",
              "      <script>\n",
              "        const buttonEl =\n",
              "          document.querySelector('#df-96e78866-8276-4ab5-92f8-7e409643875b button.colab-df-convert');\n",
              "        buttonEl.style.display =\n",
              "          google.colab.kernel.accessAllowed ? 'block' : 'none';\n",
              "\n",
              "        async function convertToInteractive(key) {\n",
              "          const element = document.querySelector('#df-96e78866-8276-4ab5-92f8-7e409643875b');\n",
              "          const dataTable =\n",
              "            await google.colab.kernel.invokeFunction('convertToInteractive',\n",
              "                                                     [key], {});\n",
              "          if (!dataTable) return;\n",
              "\n",
              "          const docLinkHtml = 'Like what you see? Visit the ' +\n",
              "            '<a target=\"_blank\" href=https://colab.research.google.com/notebooks/data_table.ipynb>data table notebook</a>'\n",
              "            + ' to learn more about interactive tables.';\n",
              "          element.innerHTML = '';\n",
              "          dataTable['output_type'] = 'display_data';\n",
              "          await google.colab.output.renderOutput(dataTable, element);\n",
              "          const docLink = document.createElement('div');\n",
              "          docLink.innerHTML = docLinkHtml;\n",
              "          element.appendChild(docLink);\n",
              "        }\n",
              "      </script>\n",
              "    </div>\n",
              "  </div>\n",
              "  "
            ]
          },
          "metadata": {},
          "execution_count": 11
        }
      ]
    },
    {
      "cell_type": "code",
      "source": [
        "df['score_a'] = df['score_a'].astype(int)\n",
        "df['score_b'] = df['score_b'].astype(int)"
      ],
      "metadata": {
        "id": "FNFZKttp6QKh"
      },
      "execution_count": 12,
      "outputs": []
    },
    {
      "cell_type": "code",
      "source": [
        "df['delta'] = abs(df['score_b']-df['score_a'])"
      ],
      "metadata": {
        "id": "DeLQgdEA4Cfb"
      },
      "execution_count": 23,
      "outputs": []
    },
    {
      "cell_type": "code",
      "source": [
        "df.head(5)"
      ],
      "metadata": {
        "colab": {
          "base_uri": "https://localhost:8080/",
          "height": 206
        },
        "id": "5qT6YRMz6NK9",
        "outputId": "9e808516-4c51-47cc-df6a-982fdce05f08"
      },
      "execution_count": 24,
      "outputs": [
        {
          "output_type": "execute_result",
          "data": {
            "text/plain": [
              "               home_team  score_a            away_team  score_b  year  delta\n",
              "0       Colorado Rockies        2      Arizona D'Backs        8  2018      6\n",
              "1  Philadelphia Phillies        5       Atlanta Braves        8  2018      3\n",
              "2        Minnesota Twins        2    Baltimore Orioles        3  2018      1\n",
              "3      Chicago White Sox       14   Kansas City Royals        7  2018      7\n",
              "4   San Francisco Giants        1  Los Angeles Dodgers        0  2018      1"
            ],
            "text/html": [
              "\n",
              "  <div id=\"df-bd25df35-5c17-4902-907d-3417da884b95\">\n",
              "    <div class=\"colab-df-container\">\n",
              "      <div>\n",
              "<style scoped>\n",
              "    .dataframe tbody tr th:only-of-type {\n",
              "        vertical-align: middle;\n",
              "    }\n",
              "\n",
              "    .dataframe tbody tr th {\n",
              "        vertical-align: top;\n",
              "    }\n",
              "\n",
              "    .dataframe thead th {\n",
              "        text-align: right;\n",
              "    }\n",
              "</style>\n",
              "<table border=\"1\" class=\"dataframe\">\n",
              "  <thead>\n",
              "    <tr style=\"text-align: right;\">\n",
              "      <th></th>\n",
              "      <th>home_team</th>\n",
              "      <th>score_a</th>\n",
              "      <th>away_team</th>\n",
              "      <th>score_b</th>\n",
              "      <th>year</th>\n",
              "      <th>delta</th>\n",
              "    </tr>\n",
              "  </thead>\n",
              "  <tbody>\n",
              "    <tr>\n",
              "      <th>0</th>\n",
              "      <td>Colorado Rockies</td>\n",
              "      <td>2</td>\n",
              "      <td>Arizona D'Backs</td>\n",
              "      <td>8</td>\n",
              "      <td>2018</td>\n",
              "      <td>6</td>\n",
              "    </tr>\n",
              "    <tr>\n",
              "      <th>1</th>\n",
              "      <td>Philadelphia Phillies</td>\n",
              "      <td>5</td>\n",
              "      <td>Atlanta Braves</td>\n",
              "      <td>8</td>\n",
              "      <td>2018</td>\n",
              "      <td>3</td>\n",
              "    </tr>\n",
              "    <tr>\n",
              "      <th>2</th>\n",
              "      <td>Minnesota Twins</td>\n",
              "      <td>2</td>\n",
              "      <td>Baltimore Orioles</td>\n",
              "      <td>3</td>\n",
              "      <td>2018</td>\n",
              "      <td>1</td>\n",
              "    </tr>\n",
              "    <tr>\n",
              "      <th>3</th>\n",
              "      <td>Chicago White Sox</td>\n",
              "      <td>14</td>\n",
              "      <td>Kansas City Royals</td>\n",
              "      <td>7</td>\n",
              "      <td>2018</td>\n",
              "      <td>7</td>\n",
              "    </tr>\n",
              "    <tr>\n",
              "      <th>4</th>\n",
              "      <td>San Francisco Giants</td>\n",
              "      <td>1</td>\n",
              "      <td>Los Angeles Dodgers</td>\n",
              "      <td>0</td>\n",
              "      <td>2018</td>\n",
              "      <td>1</td>\n",
              "    </tr>\n",
              "  </tbody>\n",
              "</table>\n",
              "</div>\n",
              "      <button class=\"colab-df-convert\" onclick=\"convertToInteractive('df-bd25df35-5c17-4902-907d-3417da884b95')\"\n",
              "              title=\"Convert this dataframe to an interactive table.\"\n",
              "              style=\"display:none;\">\n",
              "        \n",
              "  <svg xmlns=\"http://www.w3.org/2000/svg\" height=\"24px\"viewBox=\"0 0 24 24\"\n",
              "       width=\"24px\">\n",
              "    <path d=\"M0 0h24v24H0V0z\" fill=\"none\"/>\n",
              "    <path d=\"M18.56 5.44l.94 2.06.94-2.06 2.06-.94-2.06-.94-.94-2.06-.94 2.06-2.06.94zm-11 1L8.5 8.5l.94-2.06 2.06-.94-2.06-.94L8.5 2.5l-.94 2.06-2.06.94zm10 10l.94 2.06.94-2.06 2.06-.94-2.06-.94-.94-2.06-.94 2.06-2.06.94z\"/><path d=\"M17.41 7.96l-1.37-1.37c-.4-.4-.92-.59-1.43-.59-.52 0-1.04.2-1.43.59L10.3 9.45l-7.72 7.72c-.78.78-.78 2.05 0 2.83L4 21.41c.39.39.9.59 1.41.59.51 0 1.02-.2 1.41-.59l7.78-7.78 2.81-2.81c.8-.78.8-2.07 0-2.86zM5.41 20L4 18.59l7.72-7.72 1.47 1.35L5.41 20z\"/>\n",
              "  </svg>\n",
              "      </button>\n",
              "      \n",
              "  <style>\n",
              "    .colab-df-container {\n",
              "      display:flex;\n",
              "      flex-wrap:wrap;\n",
              "      gap: 12px;\n",
              "    }\n",
              "\n",
              "    .colab-df-convert {\n",
              "      background-color: #E8F0FE;\n",
              "      border: none;\n",
              "      border-radius: 50%;\n",
              "      cursor: pointer;\n",
              "      display: none;\n",
              "      fill: #1967D2;\n",
              "      height: 32px;\n",
              "      padding: 0 0 0 0;\n",
              "      width: 32px;\n",
              "    }\n",
              "\n",
              "    .colab-df-convert:hover {\n",
              "      background-color: #E2EBFA;\n",
              "      box-shadow: 0px 1px 2px rgba(60, 64, 67, 0.3), 0px 1px 3px 1px rgba(60, 64, 67, 0.15);\n",
              "      fill: #174EA6;\n",
              "    }\n",
              "\n",
              "    [theme=dark] .colab-df-convert {\n",
              "      background-color: #3B4455;\n",
              "      fill: #D2E3FC;\n",
              "    }\n",
              "\n",
              "    [theme=dark] .colab-df-convert:hover {\n",
              "      background-color: #434B5C;\n",
              "      box-shadow: 0px 1px 3px 1px rgba(0, 0, 0, 0.15);\n",
              "      filter: drop-shadow(0px 1px 2px rgba(0, 0, 0, 0.3));\n",
              "      fill: #FFFFFF;\n",
              "    }\n",
              "  </style>\n",
              "\n",
              "      <script>\n",
              "        const buttonEl =\n",
              "          document.querySelector('#df-bd25df35-5c17-4902-907d-3417da884b95 button.colab-df-convert');\n",
              "        buttonEl.style.display =\n",
              "          google.colab.kernel.accessAllowed ? 'block' : 'none';\n",
              "\n",
              "        async function convertToInteractive(key) {\n",
              "          const element = document.querySelector('#df-bd25df35-5c17-4902-907d-3417da884b95');\n",
              "          const dataTable =\n",
              "            await google.colab.kernel.invokeFunction('convertToInteractive',\n",
              "                                                     [key], {});\n",
              "          if (!dataTable) return;\n",
              "\n",
              "          const docLinkHtml = 'Like what you see? Visit the ' +\n",
              "            '<a target=\"_blank\" href=https://colab.research.google.com/notebooks/data_table.ipynb>data table notebook</a>'\n",
              "            + ' to learn more about interactive tables.';\n",
              "          element.innerHTML = '';\n",
              "          dataTable['output_type'] = 'display_data';\n",
              "          await google.colab.output.renderOutput(dataTable, element);\n",
              "          const docLink = document.createElement('div');\n",
              "          docLink.innerHTML = docLinkHtml;\n",
              "          element.appendChild(docLink);\n",
              "        }\n",
              "      </script>\n",
              "    </div>\n",
              "  </div>\n",
              "  "
            ]
          },
          "metadata": {},
          "execution_count": 24
        }
      ]
    },
    {
      "cell_type": "code",
      "source": [
        "Yankees = df[(df['home_team'] == 'New York Yankees')|(df['away_team'] == 'New York Yankees')]"
      ],
      "metadata": {
        "id": "9tKWR-Gx7o9m"
      },
      "execution_count": 25,
      "outputs": []
    },
    {
      "cell_type": "code",
      "source": [
        "Yankees.info()"
      ],
      "metadata": {
        "colab": {
          "base_uri": "https://localhost:8080/"
        },
        "id": "G_VxU4sl8u_B",
        "outputId": "2dc8a770-eb61-4f1f-a2ba-9a51652e0cab"
      },
      "execution_count": 26,
      "outputs": [
        {
          "output_type": "stream",
          "name": "stdout",
          "text": [
            "<class 'pandas.core.frame.DataFrame'>\n",
            "Int64Index: 795 entries, 12 to 11625\n",
            "Data columns (total 6 columns):\n",
            " #   Column     Non-Null Count  Dtype \n",
            "---  ------     --------------  ----- \n",
            " 0   home_team  795 non-null    object\n",
            " 1   score_a    795 non-null    int64 \n",
            " 2   away_team  795 non-null    object\n",
            " 3   score_b    795 non-null    int64 \n",
            " 4   year       795 non-null    int64 \n",
            " 5   delta      795 non-null    int64 \n",
            "dtypes: int64(4), object(2)\n",
            "memory usage: 43.5+ KB\n"
          ]
        }
      ]
    },
    {
      "cell_type": "code",
      "source": [
        "Yankeevazulejo =Yankees[(Yankees['home_team'] == 'Toronto Blue Jays')|\n",
        "                 (Yankees['away_team'] == 'Toronto Blue Jays')]"
      ],
      "metadata": {
        "id": "SXeKhmsA8xeU"
      },
      "execution_count": 27,
      "outputs": []
    },
    {
      "cell_type": "code",
      "source": [
        "Yankeevazulejo"
      ],
      "metadata": {
        "colab": {
          "base_uri": "https://localhost:8080/",
          "height": 423
        },
        "id": "xdREBp_i_0iG",
        "outputId": "e5ea2963-dd99-446d-d3f8-010bb4ad98fc"
      },
      "execution_count": 28,
      "outputs": [
        {
          "output_type": "execute_result",
          "data": {
            "text/plain": [
              "               home_team  score_a          away_team  score_b  year  delta\n",
              "12      New York Yankees        6  Toronto Blue Jays        1  2018      5\n",
              "23      New York Yankees        4  Toronto Blue Jays        2  2018      2\n",
              "37      New York Yankees        3  Toronto Blue Jays        5  2018      2\n",
              "49      New York Yankees        4  Toronto Blue Jays        7  2018      3\n",
              "265    Toronto Blue Jays        3   New York Yankees        4  2018      1\n",
              "...                  ...      ...                ...      ...   ...    ...\n",
              "11141  Toronto Blue Jays        5   New York Yankees        1  2023      4\n",
              "11437   New York Yankees        7  Toronto Blue Jays        4  2023      3\n",
              "11453   New York Yankees        6  Toronto Blue Jays        3  2023      3\n",
              "11468   New York Yankees        0  Toronto Blue Jays        3  2023      3\n",
              "11474   New York Yankees        4  Toronto Blue Jays        2  2023      2\n",
              "\n",
              "[93 rows x 6 columns]"
            ],
            "text/html": [
              "\n",
              "  <div id=\"df-86d461c3-797b-4a89-a497-6fb3eee1b02f\">\n",
              "    <div class=\"colab-df-container\">\n",
              "      <div>\n",
              "<style scoped>\n",
              "    .dataframe tbody tr th:only-of-type {\n",
              "        vertical-align: middle;\n",
              "    }\n",
              "\n",
              "    .dataframe tbody tr th {\n",
              "        vertical-align: top;\n",
              "    }\n",
              "\n",
              "    .dataframe thead th {\n",
              "        text-align: right;\n",
              "    }\n",
              "</style>\n",
              "<table border=\"1\" class=\"dataframe\">\n",
              "  <thead>\n",
              "    <tr style=\"text-align: right;\">\n",
              "      <th></th>\n",
              "      <th>home_team</th>\n",
              "      <th>score_a</th>\n",
              "      <th>away_team</th>\n",
              "      <th>score_b</th>\n",
              "      <th>year</th>\n",
              "      <th>delta</th>\n",
              "    </tr>\n",
              "  </thead>\n",
              "  <tbody>\n",
              "    <tr>\n",
              "      <th>12</th>\n",
              "      <td>New York Yankees</td>\n",
              "      <td>6</td>\n",
              "      <td>Toronto Blue Jays</td>\n",
              "      <td>1</td>\n",
              "      <td>2018</td>\n",
              "      <td>5</td>\n",
              "    </tr>\n",
              "    <tr>\n",
              "      <th>23</th>\n",
              "      <td>New York Yankees</td>\n",
              "      <td>4</td>\n",
              "      <td>Toronto Blue Jays</td>\n",
              "      <td>2</td>\n",
              "      <td>2018</td>\n",
              "      <td>2</td>\n",
              "    </tr>\n",
              "    <tr>\n",
              "      <th>37</th>\n",
              "      <td>New York Yankees</td>\n",
              "      <td>3</td>\n",
              "      <td>Toronto Blue Jays</td>\n",
              "      <td>5</td>\n",
              "      <td>2018</td>\n",
              "      <td>2</td>\n",
              "    </tr>\n",
              "    <tr>\n",
              "      <th>49</th>\n",
              "      <td>New York Yankees</td>\n",
              "      <td>4</td>\n",
              "      <td>Toronto Blue Jays</td>\n",
              "      <td>7</td>\n",
              "      <td>2018</td>\n",
              "      <td>3</td>\n",
              "    </tr>\n",
              "    <tr>\n",
              "      <th>265</th>\n",
              "      <td>Toronto Blue Jays</td>\n",
              "      <td>3</td>\n",
              "      <td>New York Yankees</td>\n",
              "      <td>4</td>\n",
              "      <td>2018</td>\n",
              "      <td>1</td>\n",
              "    </tr>\n",
              "    <tr>\n",
              "      <th>...</th>\n",
              "      <td>...</td>\n",
              "      <td>...</td>\n",
              "      <td>...</td>\n",
              "      <td>...</td>\n",
              "      <td>...</td>\n",
              "      <td>...</td>\n",
              "    </tr>\n",
              "    <tr>\n",
              "      <th>11141</th>\n",
              "      <td>Toronto Blue Jays</td>\n",
              "      <td>5</td>\n",
              "      <td>New York Yankees</td>\n",
              "      <td>1</td>\n",
              "      <td>2023</td>\n",
              "      <td>4</td>\n",
              "    </tr>\n",
              "    <tr>\n",
              "      <th>11437</th>\n",
              "      <td>New York Yankees</td>\n",
              "      <td>7</td>\n",
              "      <td>Toronto Blue Jays</td>\n",
              "      <td>4</td>\n",
              "      <td>2023</td>\n",
              "      <td>3</td>\n",
              "    </tr>\n",
              "    <tr>\n",
              "      <th>11453</th>\n",
              "      <td>New York Yankees</td>\n",
              "      <td>6</td>\n",
              "      <td>Toronto Blue Jays</td>\n",
              "      <td>3</td>\n",
              "      <td>2023</td>\n",
              "      <td>3</td>\n",
              "    </tr>\n",
              "    <tr>\n",
              "      <th>11468</th>\n",
              "      <td>New York Yankees</td>\n",
              "      <td>0</td>\n",
              "      <td>Toronto Blue Jays</td>\n",
              "      <td>3</td>\n",
              "      <td>2023</td>\n",
              "      <td>3</td>\n",
              "    </tr>\n",
              "    <tr>\n",
              "      <th>11474</th>\n",
              "      <td>New York Yankees</td>\n",
              "      <td>4</td>\n",
              "      <td>Toronto Blue Jays</td>\n",
              "      <td>2</td>\n",
              "      <td>2023</td>\n",
              "      <td>2</td>\n",
              "    </tr>\n",
              "  </tbody>\n",
              "</table>\n",
              "<p>93 rows × 6 columns</p>\n",
              "</div>\n",
              "      <button class=\"colab-df-convert\" onclick=\"convertToInteractive('df-86d461c3-797b-4a89-a497-6fb3eee1b02f')\"\n",
              "              title=\"Convert this dataframe to an interactive table.\"\n",
              "              style=\"display:none;\">\n",
              "        \n",
              "  <svg xmlns=\"http://www.w3.org/2000/svg\" height=\"24px\"viewBox=\"0 0 24 24\"\n",
              "       width=\"24px\">\n",
              "    <path d=\"M0 0h24v24H0V0z\" fill=\"none\"/>\n",
              "    <path d=\"M18.56 5.44l.94 2.06.94-2.06 2.06-.94-2.06-.94-.94-2.06-.94 2.06-2.06.94zm-11 1L8.5 8.5l.94-2.06 2.06-.94-2.06-.94L8.5 2.5l-.94 2.06-2.06.94zm10 10l.94 2.06.94-2.06 2.06-.94-2.06-.94-.94-2.06-.94 2.06-2.06.94z\"/><path d=\"M17.41 7.96l-1.37-1.37c-.4-.4-.92-.59-1.43-.59-.52 0-1.04.2-1.43.59L10.3 9.45l-7.72 7.72c-.78.78-.78 2.05 0 2.83L4 21.41c.39.39.9.59 1.41.59.51 0 1.02-.2 1.41-.59l7.78-7.78 2.81-2.81c.8-.78.8-2.07 0-2.86zM5.41 20L4 18.59l7.72-7.72 1.47 1.35L5.41 20z\"/>\n",
              "  </svg>\n",
              "      </button>\n",
              "      \n",
              "  <style>\n",
              "    .colab-df-container {\n",
              "      display:flex;\n",
              "      flex-wrap:wrap;\n",
              "      gap: 12px;\n",
              "    }\n",
              "\n",
              "    .colab-df-convert {\n",
              "      background-color: #E8F0FE;\n",
              "      border: none;\n",
              "      border-radius: 50%;\n",
              "      cursor: pointer;\n",
              "      display: none;\n",
              "      fill: #1967D2;\n",
              "      height: 32px;\n",
              "      padding: 0 0 0 0;\n",
              "      width: 32px;\n",
              "    }\n",
              "\n",
              "    .colab-df-convert:hover {\n",
              "      background-color: #E2EBFA;\n",
              "      box-shadow: 0px 1px 2px rgba(60, 64, 67, 0.3), 0px 1px 3px 1px rgba(60, 64, 67, 0.15);\n",
              "      fill: #174EA6;\n",
              "    }\n",
              "\n",
              "    [theme=dark] .colab-df-convert {\n",
              "      background-color: #3B4455;\n",
              "      fill: #D2E3FC;\n",
              "    }\n",
              "\n",
              "    [theme=dark] .colab-df-convert:hover {\n",
              "      background-color: #434B5C;\n",
              "      box-shadow: 0px 1px 3px 1px rgba(0, 0, 0, 0.15);\n",
              "      filter: drop-shadow(0px 1px 2px rgba(0, 0, 0, 0.3));\n",
              "      fill: #FFFFFF;\n",
              "    }\n",
              "  </style>\n",
              "\n",
              "      <script>\n",
              "        const buttonEl =\n",
              "          document.querySelector('#df-86d461c3-797b-4a89-a497-6fb3eee1b02f button.colab-df-convert');\n",
              "        buttonEl.style.display =\n",
              "          google.colab.kernel.accessAllowed ? 'block' : 'none';\n",
              "\n",
              "        async function convertToInteractive(key) {\n",
              "          const element = document.querySelector('#df-86d461c3-797b-4a89-a497-6fb3eee1b02f');\n",
              "          const dataTable =\n",
              "            await google.colab.kernel.invokeFunction('convertToInteractive',\n",
              "                                                     [key], {});\n",
              "          if (!dataTable) return;\n",
              "\n",
              "          const docLinkHtml = 'Like what you see? Visit the ' +\n",
              "            '<a target=\"_blank\" href=https://colab.research.google.com/notebooks/data_table.ipynb>data table notebook</a>'\n",
              "            + ' to learn more about interactive tables.';\n",
              "          element.innerHTML = '';\n",
              "          dataTable['output_type'] = 'display_data';\n",
              "          await google.colab.output.renderOutput(dataTable, element);\n",
              "          const docLink = document.createElement('div');\n",
              "          docLink.innerHTML = docLinkHtml;\n",
              "          element.appendChild(docLink);\n",
              "        }\n",
              "      </script>\n",
              "    </div>\n",
              "  </div>\n",
              "  "
            ]
          },
          "metadata": {},
          "execution_count": 28
        }
      ]
    },
    {
      "cell_type": "code",
      "source": [
        "from matplotlib import pyplot as plt\n",
        "\n",
        "plt.rcParams[\"figure.figsize\"] = [7.50, 3.50]\n",
        "plt.rcParams[\"figure.autolayout\"] = True\n",
        "\n",
        "fig, ax = plt.subplots()\n",
        "\n",
        "Yankeevazulejo['delta'].value_counts().plot(ax=ax, kind='bar', xlabel='delta', ylabel='frequency')\n",
        "\n",
        "plt.show()"
      ],
      "metadata": {
        "id": "MrNn_ZRX_4-Q",
        "colab": {
          "base_uri": "https://localhost:8080/",
          "height": 356
        },
        "outputId": "9be3412c-f3a5-4a3d-f9a7-b216b4daa48a"
      },
      "execution_count": 29,
      "outputs": [
        {
          "output_type": "display_data",
          "data": {
            "text/plain": [
              "<Figure size 750x350 with 1 Axes>"
            ],
            "image/png": "[encoded data removed]"
          },
          "metadata": {}
        }
      ]
    },
    {
      "cell_type": "code",
      "source": [
        "import seaborn as sns"
      ],
      "metadata": {
        "id": "fO9r8S6HZu_c"
      },
      "execution_count": 21,
      "outputs": []
    },
    {
      "cell_type": "code",
      "source": [
        "sns.countplot(x=Yankeevazulejo[\"delta\"])\n"
      ],
      "metadata": {
        "colab": {
          "base_uri": "https://localhost:8080/",
          "height": 373
        },
        "id": "Bfly2DQjZBTL",
        "outputId": "eac27496-4a59-4234-abae-4c56b63fda1b"
      },
      "execution_count": 30,
      "outputs": [
        {
          "output_type": "execute_result",
          "data": {
            "text/plain": [
              "<Axes: xlabel='delta', ylabel='count'>"
            ]
          },
          "metadata": {},
          "execution_count": 30
        },
        {
          "output_type": "display_data",
          "data": {
            "text/plain": [
              "<Figure size 750x350 with 1 Axes>"
            ],
            "image/png": "[encoded data removed]"
          },
          "metadata": {}
        }
      ]
    },
    {
      "cell_type": "code",
      "source": [],
      "metadata": {
        "id": "K8qFp-d-ZznK"
      },
      "execution_count": null,
      "outputs": []
    }
  ],
  "metadata": {
    "colab": {
      "provenance": [],
      "authorship_tag": "ABX9TyPX19nstVD/xrx/i+07Wn1o",
      "include_colab_link": true
    },
    "kernelspec": {
      "display_name": "Python 3",
      "name": "python3"
    },
    "language_info": {
      "name": "python"
    }
  },
  "nbformat": 4,
  "nbformat_minor": 0
}