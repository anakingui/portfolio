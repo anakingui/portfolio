{
  "cells": [
    {
      "cell_type": "markdown",
      "metadata": {
        "id": "view-in-github",
        "colab_type": "text"
      },
      "source": [
        "<a href=\"https://colab.research.google.com/github/anakingui/netflix-guillermo/blob/main/mlb_scores.ipynb\" target=\"_parent\"><img src=\"https://colab.research.google.com/assets/colab-badge.svg\" alt=\"Open In Colab\"/></a>"
      ]
    },
    {
      "cell_type": "markdown",
      "source": [
        "Programa que por medio de web scrapping construye una lista con los resultados de partidos de la MLB en los ultimos 5 años"
      ],
      "metadata": {
        "id": "g5o3fuJeXqSt"
      }
    },
    {
      "cell_type": "code",
      "execution_count": null,
      "metadata": {
        "colab": {
          "base_uri": "https://localhost:8080/"
        },
        "id": "YemcMZpneueR",
        "outputId": "0b6d036a-3629-4807-adf8-7df4318b5d4e"
      },
      "outputs": [
        {
          "name": "stdout",
          "output_type": "stream",
          "text": [
            "Looking in indexes: https://pypi.org/simple, https://us-python.pkg.dev/colab-wheels/public/simple/\n",
            "Requirement already satisfied: requests in /usr/local/lib/python3.10/dist-packages (2.27.1)\n",
            "Requirement already satisfied: beautifulsoup4 in /usr/local/lib/python3.10/dist-packages (4.11.2)\n",
            "Requirement already satisfied: urllib3<1.27,>=1.21.1 in /usr/local/lib/python3.10/dist-packages (from requests) (1.26.15)\n",
            "Requirement already satisfied: certifi>=2017.4.17 in /usr/local/lib/python3.10/dist-packages (from requests) (2022.12.7)\n",
            "Requirement already satisfied: charset-normalizer~=2.0.0 in /usr/local/lib/python3.10/dist-packages (from requests) (2.0.12)\n",
            "Requirement already satisfied: idna<4,>=2.5 in /usr/local/lib/python3.10/dist-packages (from requests) (3.4)\n",
            "Requirement already satisfied: soupsieve>1.2 in /usr/local/lib/python3.10/dist-packages (from beautifulsoup4) (2.4.1)\n"
          ]
        }
      ],
      "source": [
        "!pip install requests beautifulsoup4"
      ]
    },
    {
      "cell_type": "code",
      "execution_count": 1,
      "metadata": {
        "id": "xGj2qJFXewv8"
      },
      "outputs": [],
      "source": [
        "import requests\n",
        "from bs4 import BeautifulSoup"
      ]
    },
    {
      "cell_type": "code",
      "execution_count": 2,
      "metadata": {
        "id": "j3IG76Vle74g"
      },
      "outputs": [],
      "source": [
        "import pandas as pd\n",
        "import re as regex\n",
        "import requests"
      ]
    },
    {
      "cell_type": "code",
      "execution_count": 3,
      "metadata": {
        "id": "pwNmkiZiqd3D"
      },
      "outputs": [],
      "source": [
        "import numpy as np"
      ]
    },
    {
      "cell_type": "code",
      "source": [
        "# Se construye un patrón del sitio de búsqueda\n",
        "url='http://www.baseball-reference.com/leagues/MLB/'"
      ],
      "metadata": {
        "id": "8N6Z5kYkFZtB"
      },
      "execution_count": 6,
      "outputs": []
    },
    {
      "cell_type": "code",
      "source": [
        "lista_2 = []\n",
        "i=0"
      ],
      "metadata": {
        "id": "EJSIjm9jILGS"
      },
      "execution_count": 10,
      "outputs": []
    },
    {
      "cell_type": "code",
      "execution_count": 11,
      "metadata": {
        "id": "0qA75NH0lX8o"
      },
      "outputs": [],
      "source": [
        "# Extrae el texto que incluye el html\n",
        "for j in range(2018,2024):\n",
        "   html = requests.get(url+str(j)+'-schedule.shtml').text\n",
        "   soup = BeautifulSoup(html, 'html.parser')\n",
        "\n",
        "# Encontrar todos los elementos dentro de <p> </p> con la clase \"game\"\n",
        "   games = soup.find_all('p', class_='game')\n",
        "   score_regex = regex.compile(r'\\((\\d+)\\)')\n",
        "   \n",
        "   for game in games:\n",
        "    # Encontrar los enlaces <a> dentro del elemento <p>\n",
        "    team_links = game.find_all('a')\n",
        "    # La función find_all('a') busca todos los elementos <a> en el contexto de\n",
        "    # game y devuelve una lista que contiene todos los elementos encontrados.\n",
        "    # Cada elemento <a> encontrado se representa como un objeto de tipo Tag\n",
        "    # en Beautiful Soup. Al asignar el resultado de find_all('a') a la variable\n",
        "    # team_links, se crea una lista que contiene todos los elementos <a>\n",
        "    # encontrados en game. La variable team_links se puede utilizar\n",
        "    # posteriormente para acceder a los elementos individuales de la lista,\n",
        "    # iterar sobre ellos, obtener sus atributos o realizar otras operaciones\n",
        "    # específicas de una lista.\n",
        "\n",
        "    # Para la primera iteración se obtiene una lista de 3 elementos, \n",
        "    # [<a href=\"/teams/BOS/2018.shtml\">Boston Red Sox</a>,\n",
        "    # <a href=\"/teams/LAD/2018.shtml\">Los Angeles Dodgers</a>,\n",
        "    # <a href=\"/boxes/LAN/LAN201810280.shtml\">Boxscore</a>]\n",
        "    \n",
        "    # Extraer los nombres de los equipos, tomando el texto dentro del elemento\n",
        "    # de la lista .strip(): Elimina los espacios en blanco al principio y al\n",
        "    # final del texto. Este método se utiliza para eliminar cualquier espacio\n",
        "    # en blanco adicional que pueda estar presente antes o después del texto\n",
        "    # de los enlaces de los equipos.\n",
        "    lista_1 = [0,0,0,0,j]    \n",
        "    team1 = team_links[0].text.strip()\n",
        "    team2 = team_links[1].text.strip()\n",
        "\n",
        "    \n",
        "    # Extraer las puntuaciones utilizando expresiones regulares\n",
        "    scores = score_regex.findall(str(game))\n",
        "\n",
        "\n",
        "    \n",
        "    # Verificar si se encontraron las dos puntuaciones\n",
        "    if len(scores) == 2:\n",
        "        score1 = scores[0]\n",
        "        score2 = scores[1]\n",
        "        \n",
        "        # Se construye una lista con todos los equipos y puntuaciones\n",
        "        \n",
        "                 \n",
        "        lista_1[0]= team1\n",
        "        lista_1[1]= score1\n",
        "        lista_1[2]= team2\n",
        "        lista_1[3]= score2\n",
        "   \n",
        "        lista_2.insert(i,lista_1)\n",
        "        i = i+1"
      ]
    },
    {
      "cell_type": "code",
      "execution_count": null,
      "metadata": {
        "id": "OFfPczSgr0C3"
      },
      "outputs": [],
      "source": []
    }
  ],
  "metadata": {
    "colab": {
      "provenance": [],
      "authorship_tag": "ABX9TyNUMKVg7KUiYmcuqX/4pmmK",
      "include_colab_link": true
    },
    "kernelspec": {
      "display_name": "Python 3",
      "name": "python3"
    },
    "language_info": {
      "name": "python"
    }
  },
  "nbformat": 4,
  "nbformat_minor": 0
}
